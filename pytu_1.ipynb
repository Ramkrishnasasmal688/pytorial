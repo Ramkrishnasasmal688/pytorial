{
  "nbformat": 4,
  "nbformat_minor": 0,
  "metadata": {
    "colab": {
      "provenance": [],
      "authorship_tag": "ABX9TyNtXMFcwVJ2Ekt7PljBvRnn",
      "include_colab_link": true
    },
    "kernelspec": {
      "name": "python3",
      "display_name": "Python 3"
    },
    "language_info": {
      "name": "python"
    }
  },
  "cells": [
    {
      "cell_type": "markdown",
      "metadata": {
        "id": "view-in-github",
        "colab_type": "text"
      },
      "source": [
        "<a href=\"https://colab.research.google.com/github/Ramkrishnasasmal688/pytorial/blob/main/pytu_1.ipynb\" target=\"_parent\"><img src=\"https://colab.research.google.com/assets/colab-badge.svg\" alt=\"Open In Colab\"/></a>"
      ]
    },
    {
      "cell_type": "code",
      "execution_count": null,
      "metadata": {
        "colab": {
          "base_uri": "https://localhost:8080/"
        },
        "id": "yhoYltA4YwG_",
        "outputId": "dca8f98e-2cc2-4eef-cacf-743df9ca197e"
      },
      "outputs": [
        {
          "output_type": "stream",
          "name": "stdout",
          "text": [
            "hello world\n"
          ]
        }
      ],
      "source": [
        "print(\"hello world\")"
      ]
    },
    {
      "cell_type": "code",
      "source": [
        "print(\"First Program- Python print function\")\n",
        "print(\"what to print\")"
      ],
      "metadata": {
        "colab": {
          "base_uri": "https://localhost:8080/"
        },
        "id": "y7Z3QOV5ZK6l",
        "outputId": "bac77162-d405-4d8e-913a-9a120285f958"
      },
      "execution_count": null,
      "outputs": [
        {
          "output_type": "stream",
          "name": "stdout",
          "text": [
            "First Program- Python print function\n",
            "what to print\n"
          ]
        }
      ]
    },
    {
      "cell_type": "code",
      "source": [
        "print(\"print('hello world')\")"
      ],
      "metadata": {
        "colab": {
          "base_uri": "https://localhost:8080/"
        },
        "id": "o4aUulPYZK3O",
        "outputId": "6cd358c5-1db6-405f-c675-6f8e13ebf2d6"
      },
      "execution_count": null,
      "outputs": [
        {
          "output_type": "stream",
          "name": "stdout",
          "text": [
            "print('hello world')\n"
          ]
        }
      ]
    },
    {
      "cell_type": "markdown",
      "source": [],
      "metadata": {
        "id": "9K768k15brtQ"
      }
    },
    {
      "cell_type": "code",
      "source": [
        "print(\"hello world  \"*3)\n"
      ],
      "metadata": {
        "colab": {
          "base_uri": "https://localhost:8080/"
        },
        "id": "QlkRL6WucR1g",
        "outputId": "d4902fb5-cfb9-4972-aea5-88496d4ba2bd"
      },
      "execution_count": null,
      "outputs": [
        {
          "output_type": "stream",
          "name": "stdout",
          "text": [
            "hello world  hello world  hello world  \n"
          ]
        }
      ]
    },
    {
      "cell_type": "code",
      "source": [
        "print(\"string manupulation exercise\")\n",
        "print('string concatenation is done with the \"+\" sign')\n",
        "print('e.g print(\"hello\"+\"world\")')"
      ],
      "metadata": {
        "colab": {
          "base_uri": "https://localhost:8080/"
        },
        "id": "7sZDew81cRyj",
        "outputId": "3947a1bd-4fb8-4228-de39-248dc5bafa7a"
      },
      "execution_count": null,
      "outputs": [
        {
          "output_type": "stream",
          "name": "stdout",
          "text": [
            "string manupulation exercise\n",
            "string concatenation is done with the \"+\" sign\n",
            "e.g print(\"hello\"+\"world\")\n"
          ]
        }
      ]
    },
    {
      "cell_type": "code",
      "source": [
        "input(\"what is your name: \")\n"
      ],
      "metadata": {
        "colab": {
          "base_uri": "https://localhost:8080/",
          "height": 54
        },
        "id": "AuZ6S1-ncRwd",
        "outputId": "255301eb-2deb-4189-b326-9c8be14c7c59"
      },
      "execution_count": null,
      "outputs": [
        {
          "name": "stdout",
          "output_type": "stream",
          "text": [
            "what is your name: rks\n"
          ]
        },
        {
          "output_type": "execute_result",
          "data": {
            "text/plain": [
              "'rks'"
            ],
            "application/vnd.google.colaboratory.intrinsic+json": {
              "type": "string"
            }
          },
          "metadata": {},
          "execution_count": 17
        }
      ]
    },
    {
      "cell_type": "code",
      "source": [
        "print(\"hello \"+input(\"what is your name: \"))"
      ],
      "metadata": {
        "colab": {
          "base_uri": "https://localhost:8080/"
        },
        "id": "QsTBzUAJcRte",
        "outputId": "109131ff-f4cf-4ac3-af32-95bfbd4414d6"
      },
      "execution_count": null,
      "outputs": [
        {
          "output_type": "stream",
          "name": "stdout",
          "text": [
            "what is your name: RKS\n",
            "hello RKS\n"
          ]
        }
      ]
    },
    {
      "cell_type": "code",
      "source": [
        "print(input(\"what is your name? \"))\n",
        "print(\"hey \"+input(\"what is your name \")+\",\" +\"how are you?\")"
      ],
      "metadata": {
        "colab": {
          "base_uri": "https://localhost:8080/"
        },
        "id": "5cyzXYSAhnz1",
        "outputId": "bb895343-5f42-42b0-c48c-e85543db6bca"
      },
      "execution_count": null,
      "outputs": [
        {
          "output_type": "stream",
          "name": "stdout",
          "text": [
            "what is your name? rks\n",
            "rks\n",
            "what is your name rks\n",
            "hey rks,how are you?\n"
          ]
        }
      ]
    },
    {
      "cell_type": "code",
      "source": [],
      "metadata": {
        "id": "8cgIWe3XcRq4"
      },
      "execution_count": null,
      "outputs": []
    },
    {
      "cell_type": "code",
      "source": [],
      "metadata": {
        "id": "uRjqHEDLZKw1"
      },
      "execution_count": null,
      "outputs": []
    },
    {
      "cell_type": "code",
      "source": [],
      "metadata": {
        "id": "XU6WClY0ZKtZ"
      },
      "execution_count": null,
      "outputs": []
    },
    {
      "cell_type": "code",
      "source": [],
      "metadata": {
        "id": "jSxvUmewZKqS"
      },
      "execution_count": null,
      "outputs": []
    },
    {
      "cell_type": "code",
      "source": [],
      "metadata": {
        "id": "AD5dKJRAZKnH"
      },
      "execution_count": null,
      "outputs": []
    }
  ]
}